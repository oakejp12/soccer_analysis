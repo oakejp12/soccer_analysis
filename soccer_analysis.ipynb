{
 "cells": [
  {
   "cell_type": "code",
   "execution_count": 67,
   "metadata": {
    "collapsed": false
   },
   "outputs": [],
   "source": [
    "%matplotlib inline\n",
    "import numpy as np\n",
    "import pandas as pd\n",
    "from sklearn import preprocessing, linear_model \n",
    "from matplotlib import pyplot as plt\n",
    "import time\n",
    "\n",
    "# Load training times\n",
    "train_epl00 = pd.read_csv('./data/EPL00_01.csv', encoding=\"ISO-8859-1\")\n",
    "train_epl01 = pd.read_csv('./data/EPL01_02.csv', encoding=\"ISO-8859-1\")\n",
    "train_epl02 = pd.read_csv('./data/EPL02_03.csv', encoding=\"ISO-8859-1\")\n",
    "\n",
    "# Load testing files\n",
    "test_epl03 = pd.read_csv('./data/EPL03_04.csv', encoding=\"ISO-8859-1\")\n",
    "test_epl04 = pd.read_csv('./data/EPL04_05.csv', encoding=\"ISO-8859-1\")\n",
    "\n",
    "# Concat all training and test files into one structure\n",
    "df_train = pd.concat((train_epl00, train_epl01, train_epl02), axis=0, ignore_index=True)\n",
    "df_test = pd.concat((test_epl03, test_epl04), axis=0, ignore_index=True)"
   ]
  },
  {
   "cell_type": "code",
   "execution_count": 68,
   "metadata": {
    "collapsed": false,
    "scrolled": false
   },
   "outputs": [
    {
     "name": "stdout",
     "output_type": "stream",
     "text": [
      "1140 records read from multiple training files\n",
      "760 records read from multiple test files\n"
     ]
    }
   ],
   "source": [
    "# Number of records in training set\n",
    "num_train = df_train.shape[0]\n",
    "print(str(num_train) + \" records read from multiple training files\")\n",
    "\n",
    "# Number of records in test set\n",
    "num_test = df_test.shape[0]\n",
    "print(str(num_test) + \" records read from multiple test files\")"
   ]
  },
  {
   "cell_type": "code",
   "execution_count": 69,
   "metadata": {
    "collapsed": false,
    "scrolled": true
   },
   "outputs": [],
   "source": [
    "# Calculate points from FTR (Full time Result)\n",
    "def points(set_type):\n",
    "    ''' Follows the league distribution of points in response to a result '''\n",
    "    set_type['Result'] = np.NaN\n",
    "    \n",
    "    for index, item in set_type['FTR'].iteritems():\n",
    "        if (item == 'H'):\n",
    "            set_type.set_value(index, 'Result', 3.0)\n",
    "        elif (item == 'A'):\n",
    "            set_type.set_value(index, 'Result', 0.0)\n",
    "        else:\n",
    "            set_type.set_value(index, 'Result', 1.0)\n",
    "\n",
    "# Calculate goal difference\n",
    "def diff(set_type, col1, col2, new_col):\n",
    "    ''' Difference of two columns col1 - col2 = new_col '''\n",
    "    set_type[new_col] = np.NaN # Set all values to zero\n",
    "    home_g = set_type[col1] # Placeholder values\n",
    "    away_g = set_type[col2]\n",
    "    set_type[new_col] = home_g - away_g # Calculate the difference in fulltime scores\n",
    "\n",
    "# Calculate points - Result\n",
    "points(df_train)\n",
    "points(df_test)\n",
    "\n",
    "# Calculate full time goal difference\n",
    "diff(df_train, 'FTHG', 'FTAG', 'FTGD')\n",
    "diff(df_test, 'FTHG', 'FTAG', 'FTGD')\n",
    "\n",
    "# Calculate half time goal difference\n",
    "diff(df_train, 'HTHG', 'HTAG', 'HTGD')\n",
    "diff(df_test, 'HTHG', 'HTAG', 'HTGD')\n",
    "\n",
    "#: Calculate shot taken on target difference - SOTD \n",
    "diff(df_train, 'HST', 'AST', 'SOTD')\n",
    "diff(df_test, 'HST', 'AST', 'SOTD')\n",
    "\n",
    "#: Calculate shots taken overall difference - STD \n",
    "diff(df_train, 'HS', 'AS', 'STD')\n",
    "diff(df_test, 'HS', 'AS', 'STD')\n",
    "    \n",
    "\n",
    "#: Isolate Arsenal FC to review season performance\n",
    "arsenal_str = 'Arsenal'      \n",
    "arsenal_train = df_train.loc[(df_train['HomeTeam'] == arsenal_str) | (df_train['AwayTeam'] == arsenal_str)]\n",
    "arsenal_test = df_test.loc[(df_test['HomeTeam'] == arsenal_str) | (df_test['AwayTeam'] == arsenal_str)]"
   ]
  },
  {
   "cell_type": "code",
   "execution_count": 70,
   "metadata": {
    "collapsed": false
   },
   "outputs": [
    {
     "data": {
      "text/html": [
       "<div>\n",
       "<table border=\"1\" class=\"dataframe\">\n",
       "  <thead>\n",
       "    <tr style=\"text-align: right;\">\n",
       "      <th></th>\n",
       "      <th>FTGD</th>\n",
       "      <th>HTGD</th>\n",
       "      <th>SOTD</th>\n",
       "      <th>STD</th>\n",
       "    </tr>\n",
       "  </thead>\n",
       "  <tbody>\n",
       "    <tr>\n",
       "      <th>7</th>\n",
       "      <td>1</td>\n",
       "      <td>0</td>\n",
       "      <td>-5</td>\n",
       "      <td>-6</td>\n",
       "    </tr>\n",
       "    <tr>\n",
       "      <th>10</th>\n",
       "      <td>2</td>\n",
       "      <td>1</td>\n",
       "      <td>8</td>\n",
       "      <td>10</td>\n",
       "    </tr>\n",
       "    <tr>\n",
       "      <th>19</th>\n",
       "      <td>2</td>\n",
       "      <td>-1</td>\n",
       "      <td>5</td>\n",
       "      <td>11</td>\n",
       "    </tr>\n",
       "    <tr>\n",
       "      <th>34</th>\n",
       "      <td>0</td>\n",
       "      <td>1</td>\n",
       "      <td>0</td>\n",
       "      <td>-1</td>\n",
       "    </tr>\n",
       "  </tbody>\n",
       "</table>\n",
       "</div>"
      ],
      "text/plain": [
       "    FTGD  HTGD  SOTD  STD\n",
       "7      1     0    -5   -6\n",
       "10     2     1     8   10\n",
       "19     2    -1     5   11\n",
       "34     0     1     0   -1"
      ]
     },
     "execution_count": 70,
     "metadata": {},
     "output_type": "execute_result"
    }
   ],
   "source": [
    "#: These columns were dropped so that we could extract values!\n",
    "drop_col = ['Date', 'HomeTeam', 'AwayTeam', 'FTR', 'HTR', 'Result', 'FTHG', 'FTAG', 'HTHG', 'HTAG', \\\n",
    "            'HR', 'AR', 'HY', 'AY', 'HST', 'AST', 'HS', 'AS']\n",
    "ars_train_del = arsenal_train.drop(drop_col, axis = 1)\n",
    "ars_test_del = arsenal_test.drop(drop_col, axis = 1)\n",
    "\n",
    "#: See portion of matrix we are dealing with\n",
    "ars_train_del[:4]"
   ]
  },
  {
   "cell_type": "code",
   "execution_count": 76,
   "metadata": {
    "collapsed": false
   },
   "outputs": [
    {
     "name": "stdout",
     "output_type": "stream",
     "text": [
      "Number of samples in training set: 114\n",
      "Number of samples in testing set: 76\n"
     ]
    }
   ],
   "source": [
    "#: Normalize values?\n",
    "\n",
    "#: Transform to numpy array\n",
    "ars_train_val = ars_train_del.values.astype(float)\n",
    "ars_test_val = ars_test_del.values.astype(float)\n",
    "\n",
    "#: Activate sklearn - normalize object - skipping for now since \n",
    "#: Linear regression object does normalizing\n",
    "# min_max_scaler = preprocessing.MinMaxScaler()\n",
    "# ars_scaled = min_max_scaler.fit_transform(ars_val)\n",
    "\n",
    "print('Number of samples in training set:' , ars_train_val.shape[0])\n",
    "print('Number of samples in testing set:', ars_test_val.shape[0])"
   ]
  },
  {
   "cell_type": "code",
   "execution_count": 77,
   "metadata": {
    "collapsed": false
   },
   "outputs": [],
   "source": [
    "#: Do linear regression testing on goal_diff (last feature)\n",
    "# ars_X  = ars_train_val[:, np.newaxis, -2]\n",
    "\n",
    "# vector y in linear regr\n",
    "target_train = np.array(arsenal_train['Result'])\n",
    "target_test = np.array(arsenal_test['Result'])\n",
    "\n",
    "#: Split the data into training/testing sets\n",
    "ars_X_train = ars_train_val\n",
    "ars_X_test = ars_test_val\n",
    "\n",
    "# # Split the targets into training/testing sets\n",
    "ars_y_train = target_train\n",
    "ars_y_test = target_test"
   ]
  },
  {
   "cell_type": "code",
   "execution_count": 133,
   "metadata": {
    "collapsed": false,
    "scrolled": false
   },
   "outputs": [
    {
     "name": "stdout",
     "output_type": "stream",
     "text": [
      "Coefficients: \n",
      " [  6.09389788e-01  -1.47178500e-01   1.61751172e-02  -5.54863767e-04]\n",
      "Residual sum of squares: 0.49\n",
      "Variance score: 0.71\n"
     ]
    }
   ],
   "source": [
    "# Create a Linear Regression object\n",
    "regr = linear_model.LinearRegression(normalize=True)\n",
    "\n",
    "# Train the model using the training sets\n",
    "regr.fit(ars_X_train, ars_y_train)\n",
    "\n",
    "# The coefficients\n",
    "print('Coefficients: \\n', regr.coef_)\n",
    "# The mean square error\n",
    "print(\"Residual sum of squares: %.2f\" % np.mean((regr.predict(ars_X_test) - ars_y_test)** 2))\n",
    "# Explained variance score: 1 is perfect prediction\n",
    "print('Variance score: %.2f' % regr.score(ars_X_test, ars_y_test))\n"
   ]
  },
  {
   "cell_type": "code",
   "execution_count": null,
   "metadata": {
    "collapsed": true
   },
   "outputs": [],
   "source": []
  }
 ],
 "metadata": {
  "kernelspec": {
   "display_name": "Python 3",
   "language": "python",
   "name": "python3"
  },
  "language_info": {
   "codemirror_mode": {
    "name": "ipython",
    "version": 3
   },
   "file_extension": ".py",
   "mimetype": "text/x-python",
   "name": "python",
   "nbconvert_exporter": "python",
   "pygments_lexer": "ipython3",
   "version": "3.4.4"
  }
 },
 "nbformat": 4,
 "nbformat_minor": 0
}
