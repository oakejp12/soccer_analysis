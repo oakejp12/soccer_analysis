{
 "cells": [
  {
   "cell_type": "code",
   "execution_count": 54,
   "metadata": {
    "collapsed": false
   },
   "outputs": [],
   "source": [
    "%matplotlib inline\n",
    "import numpy as np\n",
    "import pandas as pd\n",
    "from sklearn import preprocessing, linear_model \n",
    "from matplotlib import pyplot as plt\n",
    "import time\n",
    "\n",
    "# Load training times\n",
    "train_epl00 = pd.read_csv('./data/EPL00_01.csv', encoding=\"ISO-8859-1\")\n",
    "train_epl01 = pd.read_csv('./data/EPL01_02.csv', encoding=\"ISO-8859-1\")\n",
    "train_epl02 = pd.read_csv('./data/EPL02_03.csv', encoding=\"ISO-8859-1\")\n",
    "\n",
    "# Load testing files\n",
    "test_epl03 = pd.read_csv('./data/EPL03_04.csv', encoding=\"ISO-8859-1\")\n",
    "test_epl04 = pd.read_csv('./data/EPL04_05.csv', encoding=\"ISO-8859-1\")\n",
    "\n",
    "# Concat all training and test files into one structure\n",
    "df_train = pd.concat((train_epl00, train_epl01, train_epl02), axis=0, ignore_index=True)\n",
    "df_test = pd.concat((test_epl03, test_epl04), axis=0, ignore_index=True)"
   ]
  },
  {
   "cell_type": "code",
   "execution_count": 55,
   "metadata": {
    "collapsed": false
   },
   "outputs": [
    {
     "name": "stdout",
     "output_type": "stream",
     "text": [
      "1140 records read from multiple training files\n",
      "760 records read from multiple test files\n"
     ]
    }
   ],
   "source": [
    "# Number of records in training set\n",
    "num_train = df_train.shape[0]\n",
    "print(str(num_train) + \" records read from multiple training files\")\n",
    "\n",
    "# Number of records in test set\n",
    "num_test = df_test.shape[0]\n",
    "print(str(num_test) + \" records read from multiple test files\")"
   ]
  },
  {
   "cell_type": "code",
   "execution_count": 180,
   "metadata": {
    "collapsed": false
   },
   "outputs": [
    {
     "name": "stderr",
     "output_type": "stream",
     "text": [
      "C:\\Users\\oakejp12\\AppData\\Local\\Continuum\\Miniconda3\\envs\\csc322\\lib\\site-packages\\sklearn\\utils\\validation.py:420: DataConversionWarning: Data with input dtype int64 was converted to float64 by the scale function.\n",
      "  warnings.warn(msg, DataConversionWarning)\n"
     ]
    }
   ],
   "source": [
    "# Calculate points from FTR (Full time Result)\n",
    "def points(set_type):\n",
    "    set_type['Result'] = np.NaN\n",
    "    \n",
    "    for index, item in set_type['FTR'].iteritems():\n",
    "        if (item == 'H'):\n",
    "            set_type.set_value(index, 'Result', 3.0)\n",
    "        elif (item == 'A'):\n",
    "            set_type.set_value(index, 'Result', 0.0)\n",
    "        else:\n",
    "            set_type.set_value(index, 'Result', 1.0)\n",
    "\n",
    "points(df_train)    \n",
    "\n",
    "# Calculate goal difference\n",
    "def goal_diff(set_type):\n",
    "    set_type['Goal_diff'] = 0.0\n",
    "    home_g = set_type.FTHG\n",
    "    away_g = set_type.FTAG\n",
    "    set_type['Goal_diff'] = home_g - away_g\n",
    "    \n",
    "        \n",
    "goal_diff(df_train)\n",
    "\n",
    "arsenal_str = 'Arsenal'        \n",
    "arsenal = df_train[df_train['HomeTeam'] == arsenal_str][['Result', 'Goal_diff']]   \n",
    "\n",
    "# Normalize the result mod 38 since there are 38 matches in a season\n",
    "# arsenal.Result = [float(i)/sum(arsenal.Result) for i in arsenal.Result]\n",
    "arsenal.Result = preprocessing.scale(arsenal.Result)\n",
    "arsenal.Goal_diff = preprocessing.scale(arsenal.Goal_diff)\n"
   ]
  },
  {
   "cell_type": "code",
   "execution_count": 181,
   "metadata": {
    "collapsed": false,
    "scrolled": true
   },
   "outputs": [
    {
     "name": "stdout",
     "output_type": "stream",
     "text": [
      "Coefficients: \n",
      " [  1.41932208e-16   1.00000000e+00]\n"
     ]
    },
    {
     "ename": "ValueError",
     "evalue": "x and y must be the same size",
     "output_type": "error",
     "traceback": [
      "\u001b[1;31m---------------------------------------------------------------------------\u001b[0m",
      "\u001b[1;31mValueError\u001b[0m                                Traceback (most recent call last)",
      "\u001b[1;32m<ipython-input-181-ad9ba91f432f>\u001b[0m in \u001b[0;36m<module>\u001b[1;34m()\u001b[0m\n\u001b[0;32m     21\u001b[0m \u001b[1;31m# print(\"Residual sum of squares: %.2f\" )\u001b[0m\u001b[1;33m\u001b[0m\u001b[1;33m\u001b[0m\u001b[0m\n\u001b[0;32m     22\u001b[0m \u001b[1;33m\u001b[0m\u001b[0m\n\u001b[1;32m---> 23\u001b[1;33m \u001b[0mplt\u001b[0m\u001b[1;33m.\u001b[0m\u001b[0mscatter\u001b[0m\u001b[1;33m(\u001b[0m\u001b[0mars_X_test\u001b[0m\u001b[1;33m,\u001b[0m \u001b[0mars_y_test\u001b[0m\u001b[1;33m,\u001b[0m \u001b[0mcolor\u001b[0m\u001b[1;33m=\u001b[0m\u001b[1;34m'black'\u001b[0m\u001b[1;33m)\u001b[0m\u001b[1;33m\u001b[0m\u001b[0m\n\u001b[0m\u001b[0;32m     24\u001b[0m \u001b[0mplt\u001b[0m\u001b[1;33m.\u001b[0m\u001b[0mplot\u001b[0m\u001b[1;33m(\u001b[0m\u001b[0mars_X_test\u001b[0m\u001b[1;33m,\u001b[0m \u001b[0mregr\u001b[0m\u001b[1;33m.\u001b[0m\u001b[0mpredict\u001b[0m\u001b[1;33m(\u001b[0m\u001b[0mars_X_test\u001b[0m\u001b[1;33m)\u001b[0m\u001b[1;33m,\u001b[0m \u001b[0mcolor\u001b[0m\u001b[1;33m=\u001b[0m\u001b[1;34m'blue'\u001b[0m\u001b[1;33m)\u001b[0m\u001b[1;33m\u001b[0m\u001b[0m\n",
      "\u001b[1;32mC:\\Users\\oakejp12\\AppData\\Local\\Continuum\\Miniconda3\\envs\\csc322\\lib\\site-packages\\matplotlib\\pyplot.py\u001b[0m in \u001b[0;36mscatter\u001b[1;34m(x, y, s, c, marker, cmap, norm, vmin, vmax, alpha, linewidths, verts, hold, **kwargs)\u001b[0m\n\u001b[0;32m   3198\u001b[0m         ret = ax.scatter(x, y, s=s, c=c, marker=marker, cmap=cmap, norm=norm,\n\u001b[0;32m   3199\u001b[0m                          \u001b[0mvmin\u001b[0m\u001b[1;33m=\u001b[0m\u001b[0mvmin\u001b[0m\u001b[1;33m,\u001b[0m \u001b[0mvmax\u001b[0m\u001b[1;33m=\u001b[0m\u001b[0mvmax\u001b[0m\u001b[1;33m,\u001b[0m \u001b[0malpha\u001b[0m\u001b[1;33m=\u001b[0m\u001b[0malpha\u001b[0m\u001b[1;33m,\u001b[0m\u001b[1;33m\u001b[0m\u001b[0m\n\u001b[1;32m-> 3200\u001b[1;33m                          linewidths=linewidths, verts=verts, **kwargs)\n\u001b[0m\u001b[0;32m   3201\u001b[0m         \u001b[0mdraw_if_interactive\u001b[0m\u001b[1;33m(\u001b[0m\u001b[1;33m)\u001b[0m\u001b[1;33m\u001b[0m\u001b[0m\n\u001b[0;32m   3202\u001b[0m     \u001b[1;32mfinally\u001b[0m\u001b[1;33m:\u001b[0m\u001b[1;33m\u001b[0m\u001b[0m\n",
      "\u001b[1;32mC:\\Users\\oakejp12\\AppData\\Local\\Continuum\\Miniconda3\\envs\\csc322\\lib\\site-packages\\matplotlib\\axes\\_axes.py\u001b[0m in \u001b[0;36mscatter\u001b[1;34m(self, x, y, s, c, marker, cmap, norm, vmin, vmax, alpha, linewidths, verts, **kwargs)\u001b[0m\n\u001b[0;32m   3589\u001b[0m         \u001b[0my\u001b[0m \u001b[1;33m=\u001b[0m \u001b[0mnp\u001b[0m\u001b[1;33m.\u001b[0m\u001b[0mma\u001b[0m\u001b[1;33m.\u001b[0m\u001b[0mravel\u001b[0m\u001b[1;33m(\u001b[0m\u001b[0my\u001b[0m\u001b[1;33m)\u001b[0m\u001b[1;33m\u001b[0m\u001b[0m\n\u001b[0;32m   3590\u001b[0m         \u001b[1;32mif\u001b[0m \u001b[0mx\u001b[0m\u001b[1;33m.\u001b[0m\u001b[0msize\u001b[0m \u001b[1;33m!=\u001b[0m \u001b[0my\u001b[0m\u001b[1;33m.\u001b[0m\u001b[0msize\u001b[0m\u001b[1;33m:\u001b[0m\u001b[1;33m\u001b[0m\u001b[0m\n\u001b[1;32m-> 3591\u001b[1;33m             \u001b[1;32mraise\u001b[0m \u001b[0mValueError\u001b[0m\u001b[1;33m(\u001b[0m\u001b[1;34m\"x and y must be the same size\"\u001b[0m\u001b[1;33m)\u001b[0m\u001b[1;33m\u001b[0m\u001b[0m\n\u001b[0m\u001b[0;32m   3592\u001b[0m \u001b[1;33m\u001b[0m\u001b[0m\n\u001b[0;32m   3593\u001b[0m         \u001b[0ms\u001b[0m \u001b[1;33m=\u001b[0m \u001b[0mnp\u001b[0m\u001b[1;33m.\u001b[0m\u001b[0mma\u001b[0m\u001b[1;33m.\u001b[0m\u001b[0mravel\u001b[0m\u001b[1;33m(\u001b[0m\u001b[0ms\u001b[0m\u001b[1;33m)\u001b[0m  \u001b[1;31m# This doesn't have to match x, y in size.\u001b[0m\u001b[1;33m\u001b[0m\u001b[0m\n",
      "\u001b[1;31mValueError\u001b[0m: x and y must be the same size"
     ]
    },
    {
     "data": {
      "image/png": "[encoded data removed]",
      "text/plain": [
       "<matplotlib.figure.Figure at 0xab4b978>"
      ]
     },
     "metadata": {},
     "output_type": "display_data"
    }
   ],
   "source": [
    "\n",
    "# Split the data into training/testing sets\n",
    "ars_X_train = np.array(arsenal[:38])\n",
    "ars_X_test = np.array(arsenal[38:])\n",
    "\n",
    "\n",
    "# Split the targets into training/testing sets\n",
    "ars_y_train = np.array(arsenal.Goal_diff[:38])\n",
    "ars_y_test = np.array(arsenal.Goal_diff[38:])\n",
    "\n",
    "\n",
    "# Create linear regression object\n",
    "regr = linear_model.LinearRegression()\n",
    "\n",
    "# Train the model using the training sets\n",
    "regr.fit(ars_X_train, ars_y_train)\n",
    "\n",
    "# The coefficients\n",
    "print('Coefficients: \\n', regr.coef_)\n",
    "# The mean square error\n",
    "# print(\"Residual sum of squares: %.2f\" )\n",
    "\n",
    "plt.scatter(ars_X_test, ars_y_test, color='black')\n",
    "plt.plot(ars_X_test, regr.predict(ars_X_test), color='blue')"
   ]
  },
  {
   "cell_type": "code",
   "execution_count": null,
   "metadata": {
    "collapsed": true
   },
   "outputs": [],
   "source": []
  }
 ],
 "metadata": {
  "kernelspec": {
   "display_name": "Python 3",
   "language": "python",
   "name": "python3"
  },
  "language_info": {
   "codemirror_mode": {
    "name": "ipython",
    "version": 3
   },
   "file_extension": ".py",
   "mimetype": "text/x-python",
   "name": "python",
   "nbconvert_exporter": "python",
   "pygments_lexer": "ipython3",
   "version": "3.4.4"
  }
 },
 "nbformat": 4,
 "nbformat_minor": 0
}
