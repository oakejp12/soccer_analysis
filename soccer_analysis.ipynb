{
 "cells": [
  {
   "cell_type": "code",
   "execution_count": 410,
   "metadata": {
    "collapsed": false
   },
   "outputs": [],
   "source": [
    "%matplotlib inline\n",
    "import numpy as np\n",
    "import pandas as pd\n",
    "\n",
    "from sklearn import linear_model, preprocessing\n",
    "from sklearn.metrics import accuracy_score as auc\n",
    "from sklearn import cross_validation as cv\n",
    "\n",
    "from matplotlib import pyplot as plt\n",
    "\n",
    "# Load training times\n",
    "train_epl00 = pd.read_csv('./data/EPL00_01.csv', encoding=\"ISO-8859-1\")\n",
    "train_epl01 = pd.read_csv('./data/EPL01_02.csv', encoding=\"ISO-8859-1\")\n",
    "train_epl02 = pd.read_csv('./data/EPL02_03.csv', encoding=\"ISO-8859-1\")\n",
    "\n",
    "# Load testing files\n",
    "test_epl03 = pd.read_csv('./data/EPL03_04.csv', encoding=\"ISO-8859-1\")\n",
    "test_epl04 = pd.read_csv('./data/EPL04_05.csv', encoding=\"ISO-8859-1\")\n",
    "\n",
    "# Concat all training and test files into one structure\n",
    "df_train = pd.concat((train_epl00, train_epl01, train_epl02), axis=0, ignore_index=True)\n",
    "df_test = pd.concat((test_epl03, test_epl04), axis=0, ignore_index=True)"
   ]
  },
  {
   "cell_type": "code",
   "execution_count": 356,
   "metadata": {
    "collapsed": false,
    "scrolled": false
   },
   "outputs": [
    {
     "name": "stdout",
     "output_type": "stream",
     "text": [
      "1140 records read from multiple training files\n",
      "760 records read from multiple test files\n"
     ]
    }
   ],
   "source": [
    "# Number of records in training set\n",
    "num_train = df_train.shape[0]\n",
    "print(str(num_train) + \" records read from multiple training files\")\n",
    "\n",
    "# Number of records in test set\n",
    "num_test = df_test.shape[0]\n",
    "print(str(num_test) + \" records read from multiple test files\")"
   ]
  },
  {
   "cell_type": "code",
   "execution_count": 357,
   "metadata": {
    "collapsed": false,
    "scrolled": true
   },
   "outputs": [],
   "source": [
    "# Calculate points from FTR (Full time Result)\n",
    "def points(set_type):\n",
    "    ''' Follows the league distribution of points in response to a result '''\n",
    "    set_type['Result'] = np.NaN\n",
    "    \n",
    "    for index, item in set_type['FTR'].iteritems():\n",
    "        if (item == 'H'):\n",
    "            set_type.set_value(index, 'Result', 3.0)\n",
    "        elif (item == 'A'):\n",
    "            set_type.set_value(index, 'Result', 0.0)\n",
    "        else:\n",
    "            set_type.set_value(index, 'Result', 1.0)\n",
    "\n",
    "# Calculate goal difference\n",
    "def diff(set_type, col1, col2, new_col):\n",
    "    ''' Difference of two columns col1 - col2 = new_col '''\n",
    "    set_type[new_col] = np.NaN # Set all values to zero\n",
    "    home_g = set_type[col1] # Placeholder values\n",
    "    away_g = set_type[col2]\n",
    "    set_type[new_col] = home_g - away_g # Calculate the difference in fulltime scores\n",
    "\n",
    "# Calculate points - Result\n",
    "points(df_train)\n",
    "points(df_test)\n",
    "\n",
    "# Calculate full time goal difference\n",
    "diff(df_train, 'FTHG', 'FTAG', 'FTGD')\n",
    "diff(df_test, 'FTHG', 'FTAG', 'FTGD')\n",
    "\n",
    "# Calculate half time goal difference\n",
    "diff(df_train, 'HTHG', 'HTAG', 'HTGD')\n",
    "diff(df_test, 'HTHG', 'HTAG', 'HTGD')\n",
    "\n",
    "#: Calculate shot taken on target difference - SOTD \n",
    "diff(df_train, 'HST', 'AST', 'SOTD')\n",
    "diff(df_test, 'HST', 'AST', 'SOTD')\n",
    "\n",
    "#: Calculate shots taken overall difference - STD \n",
    "diff(df_train, 'HS', 'AS', 'STD')\n",
    "diff(df_test, 'HS', 'AS', 'STD')\n",
    "    \n",
    "\n",
    "#: Isolate Arsenal FC to review season performance\n",
    "arsenal_str = 'Arsenal'      \n",
    "arsenal_train = df_train.loc[(df_train['HomeTeam'] == arsenal_str) | (df_train['AwayTeam'] == arsenal_str)]\n",
    "arsenal_test = df_test.loc[(df_test['HomeTeam'] == arsenal_str) | (df_test['AwayTeam'] == arsenal_str)]"
   ]
  },
  {
   "cell_type": "code",
   "execution_count": 358,
   "metadata": {
    "collapsed": false
   },
   "outputs": [],
   "source": [
    "#: These columns were dropped so that we could extract values!\n",
    "drop_col = ['Date', 'HomeTeam', 'AwayTeam', 'FTR', 'HTR', 'Result', 'FTHG', 'FTAG', 'HTHG', 'HTAG', \\\n",
    "            'HR', 'AR', 'HY', 'AY', 'HST', 'AST', 'HS', 'AS']\n",
    "ars_train_del = arsenal_train.drop(drop_col, axis = 1)\n",
    "ars_test_del = arsenal_test.drop(drop_col, axis = 1)"
   ]
  },
  {
   "cell_type": "code",
   "execution_count": 368,
   "metadata": {
    "collapsed": false
   },
   "outputs": [
    {
     "name": "stdout",
     "output_type": "stream",
     "text": [
      "Train X: (114, 4)\n",
      "Test X: (76, 4)\n",
      "Train y: (114,)\n",
      "Test y: (76,)\n"
     ]
    }
   ],
   "source": [
    "#: Normalize values?\n",
    "\n",
    "#: Transform to numpy array - the X in linear reg\n",
    "ars_trval = ars_train_del.values.astype(float)\n",
    "ars_teval = ars_test_del.values.astype(float)\n",
    "\n",
    "#: Activate sklearn - normalize object \n",
    "min_max_scaler = preprocessing.MinMaxScaler()\n",
    "ars_train_val = min_max_scaler.fit_transform(ars_trval)\n",
    "ars_test_val = min_max_scaler.fit_transform(ars_teval)\n",
    "\n",
    "print('Train X:' , ars_train_val.shape)\n",
    "print('Test X:', ars_test_val.shape)\n",
    "\n",
    "# vector y in linear regr\n",
    "target_train = np.array(arsenal_train['Result'])\n",
    "target_test = np.array(arsenal_test['Result'])\n",
    "\n",
    "\n",
    "print('Train y:' , target_train.shape)\n",
    "print('Test y:', target_test.shape)"
   ]
  },
  {
   "cell_type": "code",
   "execution_count": 404,
   "metadata": {
    "collapsed": false
   },
   "outputs": [
    {
     "name": "stdout",
     "output_type": "stream",
     "text": [
      "Logistic Regression CV: 0.90\n"
     ]
    }
   ],
   "source": [
    "#: Retrieve the results for cross-validation\n",
    "\n",
    "#: Collect whole data\n",
    "data = ars_train_del.as_matrix().astype(np.float)\n",
    "\n",
    "#: Target data\n",
    "target = arsenal_train.Result.as_matrix().astype(np.int)\n",
    "\n",
    "def stratified_cv(X, y, clf_class, shuffle=True, n_folds=10, **kwargs):\n",
    "    stratified_k_fold = cv.StratifiedKFold(y, n_folds=n_folds, shuffle=shuffle)\n",
    "    y_pred = y.copy()\n",
    "    for ii, jj in stratified_k_fold:\n",
    "        X_train, X_test = X[ii], X[jj]\n",
    "        y_train = y[ii]\n",
    "        clf = clf_class(**kwargs)\n",
    "        clf.fit(X_train,y_train)\n",
    "        y_pred[jj] = clf.predict(X_test)\n",
    "    return y_pred\n",
    "        \n",
    "\n",
    "print('Logistic Regression CV: {:.2f}'.format(auc(target, stratified_cv(data, target, linear_model.LogisticRegression))))    "
   ]
  },
  {
   "cell_type": "code",
   "execution_count": 423,
   "metadata": {
    "collapsed": false,
    "scrolled": false
   },
   "outputs": [
    {
     "name": "stdout",
     "output_type": "stream",
     "text": [
      "Prediction:  0.75\n"
     ]
    },
    {
     "data": {
      "text/plain": [
       "[<matplotlib.lines.Line2D at 0xa5ffd30>,\n",
       " <matplotlib.lines.Line2D at 0xa4fcd30>,\n",
       " <matplotlib.lines.Line2D at 0xa65c198>,\n",
       " <matplotlib.lines.Line2D at 0xa65cd68>]"
      ]
     },
     "execution_count": 423,
     "metadata": {},
     "output_type": "execute_result"
    },
    {
     "data": {
      "image/png": "[encoded data removed]",
      "text/plain": [
       "<matplotlib.figure.Figure at 0xaa11e48>"
      ]
     },
     "metadata": {},
     "output_type": "display_data"
    }
   ],
   "source": [
    "# Preform Logistic Regression - multinomial\n",
    "logr = linear_model.LogisticRegression()\n",
    "\n",
    "# Train the logistic regression model & predict\n",
    "yhat = logr.fit(ars_train_val, target_train).predict(ars_test_val)\n",
    "\n",
    "print('Prediction: ', auc(target_test, yhat))\n",
    "\n",
    "# Plot the LR map\n",
    "plt.plot(ars_test_val, yhat, color='blue', linewidth=3)"
   ]
  },
  {
   "cell_type": "code",
   "execution_count": 422,
   "metadata": {
    "collapsed": false
   },
   "outputs": [
    {
     "name": "stderr",
     "output_type": "stream",
     "text": [
      "C:\\Users\\oakejp12\\AppData\\Local\\Continuum\\Miniconda3\\envs\\csc322\\lib\\site-packages\\matplotlib\\collections.py:590: FutureWarning: elementwise comparison failed; returning scalar instead, but in the future will perform elementwise comparison\n",
      "  if self._edgecolors == str('face'):\n"
     ]
    },
    {
     "data": {
      "image/png": "[encoded data removed]",
      "text/plain": [
       "<matplotlib.figure.Figure at 0xaa994e0>"
      ]
     },
     "metadata": {},
     "output_type": "display_data"
    }
   ],
   "source": [
    "# Confusion Matrix\n",
    "y_actual = pd.Series(target_test, name='Actual')\n",
    "y_pred = pd.Series(yhat, name='Predicted')\n",
    "\n",
    "# Turn into a pandas data frame\n",
    "df_confusion = pd.crosstab(y_actual, y_pred, rownames=['Actual'], colnames=['Predicted'], margins=True)\n",
    "\n",
    "def plot_cm(matrix, title='Confusion Matrix'):\n",
    "    plt.matshow(matrix)\n",
    "    # plt.title(title)\n",
    "    plt.colorbar()\n",
    "    tick_marks = np.arange(len(matrix.columns))\n",
    "    plt.xticks(tick_marks, matrix.columns, rotation=45)\n",
    "    plt.yticks(tick_marks, matrix.index)\n",
    "    plt.ylabel(matrix.index.name)\n",
    "    plt.xlabel(matrix.columns.name)\n",
    "    \n",
    "# Normalize confusion matrix\n",
    "df_conf_norm = df_confusion / df_confusion.sum(axis=1)\n",
    "\n",
    "plot_cm(df_conf_norm)    "
   ]
  },
  {
   "cell_type": "code",
   "execution_count": null,
   "metadata": {
    "collapsed": true
   },
   "outputs": [],
   "source": []
  }
 ],
 "metadata": {
  "kernelspec": {
   "display_name": "Python 3",
   "language": "python",
   "name": "python3"
  },
  "language_info": {
   "codemirror_mode": {
    "name": "ipython",
    "version": 3
   },
   "file_extension": ".py",
   "mimetype": "text/x-python",
   "name": "python",
   "nbconvert_exporter": "python",
   "pygments_lexer": "ipython3",
   "version": "3.4.4"
  }
 },
 "nbformat": 4,
 "nbformat_minor": 0
}
