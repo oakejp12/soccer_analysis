{
 "cells": [
  {
   "cell_type": "code",
   "execution_count": 260,
   "metadata": {
    "collapsed": false
   },
   "outputs": [],
   "source": [
    "%matplotlib inline\n",
    "import numpy as np\n",
    "import pandas as pd\n",
    "from sklearn import preprocessing, linear_model \n",
    "from matplotlib import pyplot as plt\n",
    "import time\n",
    "\n",
    "# Load training times\n",
    "train_epl00 = pd.read_csv('./data/EPL00_01.csv', encoding=\"ISO-8859-1\")\n",
    "train_epl01 = pd.read_csv('./data/EPL01_02.csv', encoding=\"ISO-8859-1\")\n",
    "train_epl02 = pd.read_csv('./data/EPL02_03.csv', encoding=\"ISO-8859-1\")\n",
    "\n",
    "# Load testing files\n",
    "test_epl03 = pd.read_csv('./data/EPL03_04.csv', encoding=\"ISO-8859-1\")\n",
    "test_epl04 = pd.read_csv('./data/EPL04_05.csv', encoding=\"ISO-8859-1\")\n",
    "\n",
    "# Concat all training and test files into one structure\n",
    "df_train = pd.concat((train_epl00, train_epl01, train_epl02), axis=0, ignore_index=True)\n",
    "df_test = pd.concat((test_epl03, test_epl04), axis=0, ignore_index=True)"
   ]
  },
  {
   "cell_type": "code",
   "execution_count": 261,
   "metadata": {
    "collapsed": false
   },
   "outputs": [
    {
     "name": "stdout",
     "output_type": "stream",
     "text": [
      "1140 records read from multiple training files\n",
      "760 records read from multiple test files\n"
     ]
    }
   ],
   "source": [
    "# Number of records in training set\n",
    "num_train = df_train.shape[0]\n",
    "print(str(num_train) + \" records read from multiple training files\")\n",
    "\n",
    "# Number of records in test set\n",
    "num_test = df_test.shape[0]\n",
    "print(str(num_test) + \" records read from multiple test files\")"
   ]
  },
  {
   "cell_type": "code",
   "execution_count": 270,
   "metadata": {
    "collapsed": false
   },
   "outputs": [],
   "source": [
    "# Calculate points from FTR (Full time Result)\n",
    "def points(set_type):\n",
    "    set_type['Result'] = np.NaN\n",
    "    \n",
    "    for index, item in set_type['FTR'].iteritems():\n",
    "        if (item == 'H'):\n",
    "            set_type.set_value(index, 'Result', 3.0)\n",
    "        elif (item == 'A'):\n",
    "            set_type.set_value(index, 'Result', 0.0)\n",
    "        else:\n",
    "            set_type.set_value(index, 'Result', 1.0)\n",
    "\n",
    "# Calculate goal difference\n",
    "def score_diff(set_type):\n",
    "    set_type['Goal_diff'] = np.NaN # Set all values to zero\n",
    "    home_g = set_type.FTHG # Placeholder values\n",
    "    away_g = set_type.FTAG\n",
    "    set_type['Goal_diff'] = home_g - away_g # Calculate the difference in fulltime scores\n",
    "    \n",
    "\n",
    "points(df_train)\n",
    "score_diff(df_train)\n",
    "    \n",
    "# This is just to play around to see if it works\n",
    "# This produces data where arsenal were the home team!\n",
    "arsenal_str = 'Arsenal'      \n",
    "arsenal = df_train.loc[(df_train['HomeTeam'] == arsenal_str) | (df_train['AwayTeam'] == arsenal_str)]"
   ]
  },
  {
   "cell_type": "code",
   "execution_count": 271,
   "metadata": {
    "collapsed": false
   },
   "outputs": [],
   "source": [
    "# These columns were dropped so that we could extract values!\n",
    "ars_del = arsenal.drop(['Date', 'HomeTeam', 'AwayTeam', 'FTR', 'HTR', 'Result'], axis = 1)"
   ]
  },
  {
   "cell_type": "code",
   "execution_count": 273,
   "metadata": {
    "collapsed": false
   },
   "outputs": [
    {
     "name": "stdout",
     "output_type": "stream",
     "text": [
      "Number of samples: 114\n"
     ]
    }
   ],
   "source": [
    "# Normalize values \n",
    "\n",
    "# Transform to numpy array\n",
    "ars_val = ars_del.values.astype(float)\n",
    "\n",
    "# Activate sklearn - normalize object\n",
    "min_max_scaler = preprocessing.MinMaxScaler()\n",
    "ars_scaled = min_max_scaler.fit_transform(ars_val)\n",
    "\n",
    "print('Number of samples:' , ars_scaled.shape[0])\n",
    "\n",
    "\n",
    "# Turn it back into a dataframe\n",
    "# df_ars_norm = pd.DataFrame(ars_scaled)\n",
    "# print('Number of samples:' , df_ars_norm.shape[0]) # 57 samples\n",
    "# print('Number of features:', df_ars_norm.shape[1]) # 14 features"
   ]
  },
  {
   "cell_type": "code",
   "execution_count": 277,
   "metadata": {
    "collapsed": false
   },
   "outputs": [],
   "source": [
    "# Do linear regression testing on goal_diff (last feature)\n",
    "ars_X  = ars_scaled[:, np.newaxis, -1]\n",
    "\n",
    "target = np.array(arsenal['Result'])\n",
    "\n",
    "# Split the data into training/testing sets\n",
    "ars_X_train = ars_X[:-57]\n",
    "ars_X_test = ars_X[-57:]\n",
    "\n",
    "# One-Dim array of result values - targest\n",
    "result = ars_scaled[:, np.newaxis, -2]\n",
    "result = result.flatten()\n",
    "\n",
    "# Split the targets into training/testing sets\n",
    "ars_y_train = target[:-57]\n",
    "ars_y_test = target[-57:]"
   ]
  },
  {
   "cell_type": "code",
   "execution_count": 278,
   "metadata": {
    "collapsed": false,
    "scrolled": true
   },
   "outputs": [
    {
     "name": "stdout",
     "output_type": "stream",
     "text": [
      "Coefficients: \n",
      " [ 4.68771727]\n",
      "Residual sum of squares: 0.50\n",
      "Variance score: 0.72\n"
     ]
    },
    {
     "name": "stderr",
     "output_type": "stream",
     "text": [
      "C:\\Users\\oakejp12\\AppData\\Local\\Continuum\\Miniconda3\\envs\\csc322\\lib\\site-packages\\matplotlib\\collections.py:590: FutureWarning: elementwise comparison failed; returning scalar instead, but in the future will perform elementwise comparison\n",
      "  if self._edgecolors == str('face'):\n"
     ]
    },
    {
     "data": {
      "image/png": "[encoded data removed]",
      "text/plain": [
       "<matplotlib.figure.Figure at 0xe4c3630>"
      ]
     },
     "metadata": {},
     "output_type": "display_data"
    }
   ],
   "source": [
    "# Create a Linear Regression object\n",
    "regr = linear_model.LinearRegression()\n",
    "\n",
    "# Train the model using the training sets\n",
    "regr.fit(ars_X_train, ars_y_train)\n",
    "\n",
    "# The coefficients\n",
    "print('Coefficients: \\n', regr.coef_)\n",
    "# The mean square error\n",
    "print(\"Residual sum of squares: %.2f\" % np.mean((regr.predict(ars_X_test) - ars_y_test)** 2))\n",
    "# Explained variance score: 1 is perfect prediction\n",
    "print('Variance score: %.2f' % regr.score(ars_X_test, ars_y_test))\n",
    "\n",
    "# Plot outputs\n",
    "plt.scatter(ars_X_test, ars_y_test, color='black')\n",
    "plt.plot(ars_X_test, regr.predict(ars_X_test), color='blue', linewidth=3)\n",
    "plt.xticks(())\n",
    "plt.yticks(())\n",
    "\n",
    "plt.show()"
   ]
  },
  {
   "cell_type": "code",
   "execution_count": null,
   "metadata": {
    "collapsed": true
   },
   "outputs": [],
   "source": []
  }
 ],
 "metadata": {
  "kernelspec": {
   "display_name": "Python 3",
   "language": "python",
   "name": "python3"
  },
  "language_info": {
   "codemirror_mode": {
    "name": "ipython",
    "version": 3
   },
   "file_extension": ".py",
   "mimetype": "text/x-python",
   "name": "python",
   "nbconvert_exporter": "python",
   "pygments_lexer": "ipython3",
   "version": "3.4.4"
  }
 },
 "nbformat": 4,
 "nbformat_minor": 0
}
